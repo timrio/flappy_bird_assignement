{
 "cells": [
  {
   "cell_type": "markdown",
   "metadata": {},
   "source": [
    "# Reinforcement Learning: Individual Assignement\n",
    "## Timothée RIO"
   ]
  },
  {
   "cell_type": "code",
   "execution_count": 1,
   "metadata": {},
   "outputs": [
    {
     "name": "stderr",
     "output_type": "stream",
     "text": [
      "c:\\Users\\33631\\Documents\\Etudes\\centrale 3A\\RL\\flappy_bird_assignement\\venv\\lib\\site-packages\\torchvision\\io\\image.py:11: UserWarning: Failed to load image Python extension: Could not find module 'C:\\Users\\33631\\Documents\\Etudes\\centrale 3A\\RL\\flappy_bird_assignement\\venv\\Lib\\site-packages\\torchvision\\image.pyd' (or one of its dependencies). Try using the full path with constructor syntax.\n",
      "  warn(f\"Failed to load image Python extension: {e}\")\n"
     ]
    }
   ],
   "source": [
    "import os, sys\n",
    "import gym\n",
    "import time\n",
    "import jdc\n",
    "import numpy as np\n",
    "import text_flappy_bird_gym\n",
    "from tqdm import tqdm\n",
    "import matplotlib.pyplot as plt\n",
    "import pickle\n",
    "import random\n",
    "import cv2\n",
    "import torch\n",
    "import torch.nn as nn\n",
    "import torch.optim as optim\n",
    "import torch.nn.functional as F\n",
    "import torchvision.transforms as T"
   ]
  },
  {
   "cell_type": "markdown",
   "metadata": {},
   "source": [
    "# Usefull Stuff"
   ]
  },
  {
   "cell_type": "code",
   "execution_count": 27,
   "metadata": {},
   "outputs": [],
   "source": [
    "def moving_average(input_list, size = 1000):\n",
    "    input_list = np.array(input_list)\n",
    "    moving_means = []\n",
    "    n = len(input_list)\n",
    "    for i in range(size,n, size):\n",
    "        mean = np.mean(input_list[max(0,i-size):i])\n",
    "        moving_means.append(mean)\n",
    "    return(moving_means)"
   ]
  },
  {
   "cell_type": "code",
   "execution_count": 64,
   "metadata": {},
   "outputs": [],
   "source": [
    "def plot_state_value(q_dict):\n",
    "    def f(x, y):\n",
    "        if (x,y) in q_dict.keys():\n",
    "            return max(q_dict[(x,y)])\n",
    "        else:\n",
    "            return(0)\n",
    "\n",
    "    X, Y = np.meshgrid(x_coords,y_coords)\n",
    "    Z = np.array([f(x,y) for x,y in zip(np.ravel(X), np.ravel(Y))]).reshape(X.shape)\n",
    "\n",
    "    ax = plt.axes(projection='3d')\n",
    "    ax.plot_surface(X, Y, Z, rstride=1, cstride=1,cmap=plt.cm.coolwarm)\n",
    "    ax.set_xlabel('Horizontal Distance to pipe')\n",
    "    ax.set_ylabel('Vertical Distance to pipe')\n",
    "    ax.set_zlabel('State Value')"
   ]
  },
  {
   "cell_type": "markdown",
   "metadata": {},
   "source": [
    "# First Agent: Q-learning agent"
   ]
  },
  {
   "cell_type": "code",
   "execution_count": 40,
   "metadata": {},
   "outputs": [],
   "source": [
    "class QLearningAgent():\n",
    "    def agent_init(self, agent_init_info):\n",
    "        self.num_actions = agent_init_info[\"num_actions\"]\n",
    "        self.epsilon = agent_init_info[\"epsilon\"]\n",
    "        self.step_size = agent_init_info[\"step_size\"]\n",
    "        self.discount = agent_init_info[\"discount\"]\n",
    "        self.rand_generator = np.random.RandomState(agent_info[\"seed\"])\n",
    "\n",
    "        self.q = {}\n",
    "\n",
    "        \n",
    "    def agent_start(self, state):\n",
    "\n",
    "        current_q = self.q.setdefault(state,[0,0])\n",
    "        if self.rand_generator.rand() < self.epsilon:\n",
    "            action = self.rand_generator.randint(self.num_actions) # random action selection\n",
    "        else:\n",
    "            action = self.argmax(current_q) # greedy action selection\n",
    "        self.prev_state = state\n",
    "        self.prev_action = action\n",
    "        return action\n",
    "    \n",
    "    def agent_step(self, reward, state):\n",
    "        # Choose action using epsilon greedy.\n",
    "        current_q = self.q.setdefault(state,[0,0])\n",
    "        if self.rand_generator.rand() < self.epsilon:\n",
    "            action = self.rand_generator.randint(self.num_actions)\n",
    "        else:\n",
    "            action = self.argmax(current_q)\n",
    "        \n",
    "        previous_values_list = self.q[self.prev_state]\n",
    "        previous_values_list[self.prev_action] += self.step_size*(reward + self.discount*np.max(self.q[state]) - self.q[self.prev_state][self.prev_action])\n",
    "        self.q[self.prev_state] = previous_values_list\n",
    "        \n",
    "        self.prev_state = state\n",
    "        self.prev_action = action\n",
    "        return action\n",
    "    \n",
    "    def agent_end(self, reward):\n",
    "        previous_values_list = self.q[self.prev_state]\n",
    "        previous_values_list[self.prev_action] += self.step_size*(reward - self.q[self.prev_state][self.prev_action])\n",
    "        self.q[self.prev_state] = previous_values_list\n",
    "\n",
    "        \n",
    "    def argmax(self, q_values):\n",
    "        top = float(\"-inf\")\n",
    "        ties = []\n",
    "\n",
    "        for i in range(len(q_values)):\n",
    "            if q_values[i] > top:\n",
    "                top = q_values[i]\n",
    "                ties = []\n",
    "\n",
    "            if q_values[i] == top:\n",
    "                ties.append(i)\n",
    "\n",
    "        return self.rand_generator.choice(ties)\n",
    "\n",
    "    def set_epsilon(self, value):\n",
    "        self.epsilon = value\n",
    "\n",
    "    @staticmethod\n",
    "    def load(path):\n",
    "        obj = pickle.load(open(path,'wb'))\n",
    "        return(obj)"
   ]
  },
  {
   "cell_type": "markdown",
   "metadata": {},
   "source": [
    "## Second Agent: Expected SARSA agent"
   ]
  },
  {
   "cell_type": "code",
   "execution_count": 41,
   "metadata": {},
   "outputs": [],
   "source": [
    "class SarsaAgent():\n",
    "    def agent_init(self, agent_init_info):\n",
    "        self.num_actions = agent_init_info[\"num_actions\"]\n",
    "        self.epsilon = agent_init_info[\"epsilon\"]\n",
    "        self.step_size = agent_init_info[\"step_size\"]\n",
    "        self.discount = agent_init_info[\"discount\"]\n",
    "        self.rand_generator = np.random.RandomState(agent_info[\"seed\"])\n",
    "        self.q = {}\n",
    "\n",
    "        \n",
    "    def agent_start(self, state):\n",
    "        current_q = self.q.setdefault(state,[0,0])\n",
    "        if self.rand_generator.rand() < self.epsilon:\n",
    "            action = self.rand_generator.randint(self.num_actions) # random action selection\n",
    "        else:\n",
    "            action = self.argmax(current_q) # greedy action selection\n",
    "        self.prev_state = state\n",
    "        self.prev_action = action\n",
    "        return action\n",
    "    \n",
    "    def agent_step(self, reward, state):\n",
    "        # Choose action using epsilon greedy.\n",
    "        current_q = self.q.setdefault(state,[0,0])\n",
    "        if self.rand_generator.rand() < self.epsilon:\n",
    "            action = self.rand_generator.randint(self.num_actions)\n",
    "        else:\n",
    "            action = self.argmax(current_q)\n",
    "        \n",
    "        best_q = np.max(current_q)\n",
    "        number_of_greedy_actions = np.sum(current_q==best_q)\n",
    "        proba_non_greedy = (self.epsilon / self.num_actions)\n",
    "        proba_greedy = ((1 - self.epsilon) / number_of_greedy_actions) + (self.epsilon / self.num_actions)\n",
    "        expected_q = 0 \n",
    "        for a in range(self.num_actions):\n",
    "            if current_q[a] != best_q: \n",
    "                expected_q += current_q[a] * proba_non_greedy \n",
    "            else: \n",
    "                expected_q += current_q[a] * proba_greedy\n",
    "        \n",
    "        previous_values_list = self.q[self.prev_state]\n",
    "        previous_values_list[self.prev_action] += self.step_size*(reward + self.discount*expected_q - self.q[self.prev_state][self.prev_action])\n",
    "        self.q[self.prev_state] = previous_values_list\n",
    "\n",
    "        \n",
    "        self.prev_state = state\n",
    "        self.prev_action = action\n",
    "        return action\n",
    "    \n",
    "    def agent_end(self, reward):\n",
    "        previous_values_list = self.q[self.prev_state]\n",
    "        previous_values_list[self.prev_action] += self.step_size*(reward - self.q[self.prev_state][self.prev_action])\n",
    "        self.q[self.prev_state,self.prev_action] = previous_values_list\n",
    "    \n",
    "        \n",
    "    def argmax(self, q_values):\n",
    "        top = float(\"-inf\")\n",
    "        ties = []\n",
    "        for i in range(len(q_values)):\n",
    "            if q_values[i] > top:\n",
    "                top = q_values[i]\n",
    "                ties = []\n",
    "            if q_values[i] == top:\n",
    "                ties.append(i)\n",
    "\n",
    "        return self.rand_generator.choice(ties)\n",
    "\n",
    "    def set_epsilon(self, value):\n",
    "        self.epsilon = value\n",
    "\n",
    "\n",
    "    @staticmethod\n",
    "    def load(path):\n",
    "        obj = pickle.load(open(path,'rb'))\n",
    "        return(obj)"
   ]
  },
  {
   "cell_type": "markdown",
   "metadata": {},
   "source": [
    "## Experiments and Plots"
   ]
  },
  {
   "cell_type": "markdown",
   "metadata": {},
   "source": [
    "### Simulations"
   ]
  },
  {
   "cell_type": "code",
   "execution_count": 100,
   "metadata": {},
   "outputs": [
    {
     "name": "stdout",
     "output_type": "stream",
     "text": [
      "start training q_learning\n"
     ]
    },
    {
     "name": "stderr",
     "output_type": "stream",
     "text": [
      "100%|██████████| 20000/20000 [01:55<00:00, 173.57it/s]\n"
     ]
    },
    {
     "name": "stdout",
     "output_type": "stream",
     "text": [
      "start training sarsa\n"
     ]
    },
    {
     "name": "stderr",
     "output_type": "stream",
     "text": [
      "100%|██████████| 20000/20000 [02:58<00:00, 111.94it/s]\n"
     ]
    }
   ],
   "source": [
    "###### main parameters\n",
    "number_of_episodes = 20000\n",
    "epsilon_value = 0.1\n",
    "epsilon_decay = 0.9 # every 5000 episodes\n",
    "agent_info = {\"num_actions\": 2 , \"epsilon\": epsilon_value, \"step_size\": 0.1, \"discount\": 1.0, \"seed\": 0}\n",
    "\n",
    "##### initiate environment\n",
    "env = gym.make('TextFlappyBird-v0', height = 15, width = 20, pipe_gap = 4)\n",
    "\n",
    "##### initialise both agents\n",
    "q_learning_agent = QLearningAgent()\n",
    "sarsa_agent = SarsaAgent()\n",
    "agents_dict = {'q_learning': q_learning_agent, 'sarsa': sarsa_agent}\n",
    "\n",
    "\n",
    "for agent_name in agents_dict.keys():\n",
    "    agents_dict[agent_name].agent_init(agent_info)\n",
    "\n",
    "#### play episode\n",
    "rewards = {}\n",
    "for name, agent in agents_dict.items():\n",
    "    print(f\"start training {name}\")\n",
    "    rewards_dict = {}\n",
    "    epsilon_value = 0.1\n",
    "    agent.set_epsilon(epsilon_value)\n",
    "    for episode in tqdm(range(number_of_episodes), position = 0):\n",
    "        current_reward = 0\n",
    "        obs = env.reset()\n",
    "        action = agent.agent_start(obs)\n",
    "        ## decrease epsilon :\n",
    "        if episode % 5000 == 0:\n",
    "            epsilon_value = epsilon_value*epsilon_decay\n",
    "            agent.set_epsilon(epsilon_value)\n",
    "\n",
    "        while True:\n",
    "            obs, reward, done, info = env.step(action)\n",
    "            current_reward += reward\n",
    "            if done:\n",
    "                agent.agent_end(reward)\n",
    "                rewards_dict[episode] = current_reward # if episodes terminates, save the obtained reward\n",
    "                break\n",
    "            else:\n",
    "                action = agent.agent_step(reward, obs)\n",
    "\n",
    "    #### save agents for latter use\n",
    "    rewards[name] = rewards_dict\n",
    "    pickle.dump(agent,open(f\"{name}.pkl\",\"wb\"))"
   ]
  },
  {
   "cell_type": "markdown",
   "metadata": {},
   "source": [
    "## Plots"
   ]
  },
  {
   "cell_type": "markdown",
   "metadata": {},
   "source": [
    "### Compare rewards"
   ]
  },
  {
   "cell_type": "code",
   "execution_count": 105,
   "metadata": {},
   "outputs": [
    {
     "data": {
      "image/png": "[encoded data removed]",
      "text/plain": [
       "<Figure size 432x288 with 1 Axes>"
      ]
     },
     "metadata": {
      "needs_background": "light"
     },
     "output_type": "display_data"
    }
   ],
   "source": [
    "size = 1000\n",
    "for name in rewards.keys():\n",
    "    rewards_list = list(rewards[name].values())\n",
    "    moving_means = moving_average(rewards_list, size = size)\n",
    "    plt.plot([size*episode for episode in range(0,len(moving_means))],moving_means, label=name)\n",
    "plt.xlabel(\"Episodes\")\n",
    "plt.ylabel(\"Sum of\\n rewards\\n during\\n episode\",rotation=0, labelpad=40)\n",
    "plt.legend()\n",
    "plt.show()"
   ]
  },
  {
   "cell_type": "markdown",
   "metadata": {},
   "source": [
    "## Compare state value fonctions"
   ]
  },
  {
   "cell_type": "code",
   "execution_count": 106,
   "metadata": {},
   "outputs": [
    {
     "data": {
      "image/png": "[encoded data removed]",
      "text/plain": [
       "<Figure size 432x288 with 1 Axes>"
      ]
     },
     "metadata": {
      "needs_background": "light"
     },
     "output_type": "display_data"
    }
   ],
   "source": [
    "plot_state_value(agents_dict['q_learning'].q)"
   ]
  },
  {
   "cell_type": "code",
   "execution_count": 107,
   "metadata": {},
   "outputs": [
    {
     "data": {
      "image/png": "[encoded data removed]",
      "text/plain": [
       "<Figure size 432x288 with 1 Axes>"
      ]
     },
     "metadata": {
      "needs_background": "light"
     },
     "output_type": "display_data"
    }
   ],
   "source": [
    "plot_state_value(agents_dict['sarsa'].q)"
   ]
  },
  {
   "cell_type": "markdown",
   "metadata": {},
   "source": [
    "### Parameters sweep graphs"
   ]
  },
  {
   "cell_type": "markdown",
   "metadata": {},
   "source": [
    "Compare step sizes effects"
   ]
  },
  {
   "cell_type": "code",
   "execution_count": 108,
   "metadata": {},
   "outputs": [
    {
     "name": "stdout",
     "output_type": "stream",
     "text": [
      "let's train with step size: 0.1\n"
     ]
    },
    {
     "name": "stderr",
     "output_type": "stream",
     "text": [
      "100%|██████████| 10000/10000 [00:16<00:00, 596.52it/s]\n",
      "100%|██████████| 10000/10000 [00:30<00:00, 326.96it/s]\n"
     ]
    },
    {
     "name": "stdout",
     "output_type": "stream",
     "text": [
      "let's train with step size: 0.2\n"
     ]
    },
    {
     "name": "stderr",
     "output_type": "stream",
     "text": [
      "100%|██████████| 10000/10000 [00:50<00:00, 198.91it/s]\n",
      "100%|██████████| 10000/10000 [01:32<00:00, 108.38it/s]\n"
     ]
    },
    {
     "name": "stdout",
     "output_type": "stream",
     "text": [
      "let's train with step size: 0.30000000000000004\n"
     ]
    },
    {
     "name": "stderr",
     "output_type": "stream",
     "text": [
      "100%|██████████| 10000/10000 [00:48<00:00, 208.21it/s]\n",
      "100%|██████████| 10000/10000 [01:08<00:00, 146.31it/s]\n"
     ]
    },
    {
     "name": "stdout",
     "output_type": "stream",
     "text": [
      "let's train with step size: 0.4\n"
     ]
    },
    {
     "name": "stderr",
     "output_type": "stream",
     "text": [
      "100%|██████████| 10000/10000 [00:48<00:00, 204.13it/s]\n",
      "100%|██████████| 10000/10000 [01:15<00:00, 131.82it/s]\n"
     ]
    },
    {
     "name": "stdout",
     "output_type": "stream",
     "text": [
      "let's train with step size: 0.5\n"
     ]
    },
    {
     "name": "stderr",
     "output_type": "stream",
     "text": [
      "100%|██████████| 10000/10000 [01:05<00:00, 153.15it/s]\n",
      "100%|██████████| 10000/10000 [01:54<00:00, 87.37it/s]\n"
     ]
    },
    {
     "name": "stdout",
     "output_type": "stream",
     "text": [
      "let's train with step size: 0.6000000000000001\n"
     ]
    },
    {
     "name": "stderr",
     "output_type": "stream",
     "text": [
      "100%|██████████| 10000/10000 [01:30<00:00, 110.22it/s]\n",
      "100%|██████████| 10000/10000 [01:21<00:00, 123.03it/s]\n"
     ]
    },
    {
     "name": "stdout",
     "output_type": "stream",
     "text": [
      "let's train with step size: 0.7000000000000001\n"
     ]
    },
    {
     "name": "stderr",
     "output_type": "stream",
     "text": [
      "100%|██████████| 10000/10000 [00:42<00:00, 235.15it/s]\n",
      "100%|██████████| 10000/10000 [01:14<00:00, 134.60it/s]\n"
     ]
    },
    {
     "name": "stdout",
     "output_type": "stream",
     "text": [
      "let's train with step size: 0.8\n"
     ]
    },
    {
     "name": "stderr",
     "output_type": "stream",
     "text": [
      "100%|██████████| 10000/10000 [01:10<00:00, 141.00it/s]\n",
      "100%|██████████| 10000/10000 [01:08<00:00, 145.93it/s]\n"
     ]
    },
    {
     "name": "stdout",
     "output_type": "stream",
     "text": [
      "let's train with step size: 0.9\n"
     ]
    },
    {
     "name": "stderr",
     "output_type": "stream",
     "text": [
      "100%|██████████| 10000/10000 [00:42<00:00, 234.97it/s]\n",
      "100%|██████████| 10000/10000 [00:54<00:00, 183.35it/s]\n"
     ]
    },
    {
     "name": "stdout",
     "output_type": "stream",
     "text": [
      "let's train with step size: 1.0\n"
     ]
    },
    {
     "name": "stderr",
     "output_type": "stream",
     "text": [
      "100%|██████████| 10000/10000 [00:34<00:00, 291.16it/s]\n",
      "100%|██████████| 10000/10000 [00:55<00:00, 179.30it/s]\n"
     ]
    }
   ],
   "source": [
    "###### main parameters\n",
    "number_of_episodes = 10000\n",
    "step_size_list = [0.1*i for i in range(1,11)]\n",
    "epsilon_decay = 0.9 # every 5000 episodes\n",
    "epsilon_value = 0.1\n",
    "##### initiate environment\n",
    "env = gym.make('TextFlappyBird-v0', height = 15, width = 20, pipe_gap = 4)\n",
    "rewards_steps_size_dict = {}\n",
    "for step_size in step_size_list:\n",
    "    print(f\"let\\'s train with step size: {step_size}\")\n",
    "    ##### initialise both agents\n",
    "    q_learning_agent = QLearningAgent()\n",
    "    sarsa_agent = SarsaAgent()\n",
    "    agents_dict = {'q_learning': q_learning_agent, 'sarsa': sarsa_agent}\n",
    "\n",
    "    agent_info = {\"num_actions\": 2 , \"epsilon\": 0.1, \"step_size\":step_size , \"discount\": 1.0, \"seed\": 0}\n",
    "    for agent_name in agents_dict.keys():\n",
    "        agents_dict[agent_name].agent_init(agent_info)\n",
    "\n",
    "    #### play episode\n",
    "    rewards_steps_size_agent = {}\n",
    "    for name, agent in agents_dict.items():        \n",
    "        rewards_list = []\n",
    "        epsilon_value = 0.1\n",
    "        agent.set_epsilon(epsilon_value)\n",
    "        for episode in tqdm(range(number_of_episodes), position = 0):\n",
    "            current_reward = 0\n",
    "            obs = env.reset()\n",
    "            action = agent.agent_start(obs)\n",
    "            ## decrease epsilon :\n",
    "            if episode % 5000 == 0:\n",
    "                epsilon_value = epsilon_value*epsilon_decay\n",
    "                agent.set_epsilon(epsilon_value)\n",
    "\n",
    "            while True:\n",
    "                obs, reward, done, info = env.step(action)\n",
    "                current_reward += reward\n",
    "                if done:\n",
    "                    agent.agent_end(reward)\n",
    "                    rewards_list.append(current_reward) # if episodes terminates, save the obtained reward\n",
    "                    break\n",
    "                else:\n",
    "                    action = agent.agent_step(reward, obs)\n",
    "        rewards_steps_size_agent[name] = np.sum(rewards_list)/len(rewards_list)\n",
    "    rewards_steps_size_dict[step_size] = rewards_steps_size_agent"
   ]
  },
  {
   "cell_type": "code",
   "execution_count": 109,
   "metadata": {},
   "outputs": [
    {
     "data": {
      "image/png": "[encoded data removed]",
      "text/plain": [
       "<Figure size 432x288 with 1 Axes>"
      ]
     },
     "metadata": {
      "needs_background": "light"
     },
     "output_type": "display_data"
    }
   ],
   "source": [
    "for model in [\"q_learning\", \"sarsa\"]:\n",
    "    values = []\n",
    "    for step in rewards_steps_size_dict.keys():\n",
    "        values.append(rewards_steps_size_dict[step][model])\n",
    "    plt.plot(rewards_steps_size_dict.keys(), values, label = model)\n",
    "    \n",
    "plt.legend()\n",
    "plt.xlabel(\"Step-size\")\n",
    "plt.ylabel(\"Sum of\\n rewards\\n per episode\",rotation=0, labelpad=50)\n",
    "plt.xticks(list(rewards_steps_size_dict.keys()))\n",
    "plt.show()"
   ]
  },
  {
   "cell_type": "markdown",
   "metadata": {},
   "source": [
    "## Third agent (bonus): Deep Q learning Agent"
   ]
  },
  {
   "cell_type": "code",
   "execution_count": 119,
   "metadata": {},
   "outputs": [],
   "source": [
    "class NN(nn.Module):\n",
    "    def __init__(self, input_shape = 2, n_actions = 2):\n",
    "        super(NN, self).__init__()\n",
    "\n",
    "        self.conv_net  = nn.Sequential(\n",
    "            nn.Conv2d(1, 6, kernel_size=3),\n",
    "            nn.ReLU(inplace=True),\n",
    "            nn.Conv2d(6, 12, kernel_size=3),\n",
    "            nn.ReLU(inplace=True),\n",
    "            nn.MaxPool2d((2,2)),\n",
    "            nn.Flatten()\n",
    "        )\n",
    "            \n",
    "        self.dense = nn.Sequential(\n",
    "            nn.Linear(12*30*7, 1000),\n",
    "            nn.ReLU(),\n",
    "            nn.Linear(1000, 100),\n",
    "            nn.ReLU(),\n",
    "            nn.Linear(100,  n_actions)\n",
    "        )\n",
    "\n",
    "    def forward(self, x):\n",
    "        x = self.conv_net(x)\n",
    "        o = self.dense(x)\n",
    "        return o"
   ]
  },
  {
   "cell_type": "code",
   "execution_count": 128,
   "metadata": {},
   "outputs": [],
   "source": [
    "class DQNAgent:\n",
    "\n",
    "    def agent_init(self, agent_init_info, batch_size = 8, max_memory_size = 100000):\n",
    "\n",
    "        # Store the parameters provided in agent_init_info.\n",
    "        self.state_shape = agent_init_info[\"states_shape\"]\n",
    "        self.num_actions = agent_init_info[\"num_actions\"]\n",
    "        self.epsilon = agent_init_info[\"epsilon\"]\n",
    "        self.step_size = agent_init_info[\"step_size\"]\n",
    "        self.discount = agent_init_info[\"discount\"]\n",
    "        self.state_space = 2\n",
    "        self.device = 'cuda' if torch.cuda.is_available() else 'cpu'\n",
    "        # DQN network  \n",
    "        self.dqn = NN(2, self.num_actions).to(self.device)\n",
    "        self.target_network = NN(2, self.num_actions).to(self.device)\n",
    "        self.target_network.eval()\n",
    "        self.optimizer = torch.optim.Adam(self.dqn.parameters(), lr=self.step_size)\n",
    "\n",
    "        # Create memory\n",
    "        self.max_memory_size = max_memory_size\n",
    "\n",
    "        self.STATE_MEM = torch.zeros(max_memory_size, *self.state_shape)\n",
    "        self.ACTION_MEM = torch.zeros(max_memory_size, 1)\n",
    "        self.REWARD_MEM = torch.zeros(max_memory_size, 1)\n",
    "        self.STATE2_MEM = torch.zeros(max_memory_size, *self.state_shape)\n",
    "        self.DONE_MEM = torch.zeros(max_memory_size, 1)\n",
    "        self.ending_position = 0\n",
    "        self.num_in_queue = 0\n",
    "        \n",
    "        self.memory_sample_size = batch_size\n",
    "        \n",
    "        # Learning parameters\n",
    "        self.l1 = nn.SmoothL1Loss().to(self.device) # Also known as Huber loss\n",
    "\n",
    "\n",
    "    def remember(self, state, action, reward, state2, done):\n",
    "        \"\"\"Store the experiences in a buffer to use later\"\"\"\n",
    "        self.STATE_MEM[self.ending_position] = state.float()\n",
    "        self.ACTION_MEM[self.ending_position] = action.float()\n",
    "        self.REWARD_MEM[self.ending_position] = reward.float()\n",
    "        self.STATE2_MEM[self.ending_position] = state2.float()\n",
    "        self.DONE_MEM[self.ending_position] = done.float()\n",
    "        self.ending_position = (self.ending_position + 1) #% self.max_memory_size  # FIFO tensor\n",
    "        self.num_in_queue = min(self.num_in_queue + 1, self.max_memory_size)\n",
    "    \n",
    "    def batch_experiences(self):\n",
    "        \"\"\"Randomly sample 'batch size' experiences\"\"\"\n",
    "        idx = random.choices(range(self.num_in_queue), k=self.memory_sample_size)\n",
    "        STATE = self.STATE_MEM[idx]\n",
    "        ACTION = self.ACTION_MEM[idx]\n",
    "        REWARD = self.REWARD_MEM[idx]\n",
    "        STATE2 = self.STATE2_MEM[idx]\n",
    "        DONE = self.DONE_MEM[idx]      \n",
    "        return STATE, ACTION, REWARD, STATE2, DONE\n",
    "    \n",
    "    def step(self, state):\n",
    "        \"\"\"Epsilon-greedy action\"\"\"\n",
    "        if random.random() < self.epsilon:  \n",
    "            return torch.tensor([[random.randrange(self.num_actions)]])\n",
    "        else:\n",
    "            state = torch.unsqueeze(state, dim = 0)\n",
    "            return torch.argmax(self.dqn(state.to(self.device))).unsqueeze(0).unsqueeze(0).cpu()\n",
    "\n",
    "    def update_target_network(self):\n",
    "        self.target_network.load_state_dict(self.dqn.state_dict())\n",
    "        self.target_network.eval()\n",
    "\n",
    "    def experience_replay(self):\n",
    "        if self.memory_sample_size > self.num_in_queue:\n",
    "            return\n",
    "        # Sample a batch of experiences\n",
    "        STATE, ACTION, REWARD, STATE2, DONE = self.batch_experiences()\n",
    "        STATE = STATE.to(self.device)\n",
    "        ACTION = ACTION.to(self.device)\n",
    "        REWARD = REWARD.to(self.device)\n",
    "        STATE2 = STATE2.to(self.device)\n",
    "        DONE = DONE.to(self.device)\n",
    "        \n",
    "        self.optimizer.zero_grad()\n",
    "        # Q-Learning target is Q*(S, A) <- r + γ max_a Q(S', a) \n",
    "        with torch.no_grad():\n",
    "            target = REWARD + torch.mul((self.discount * self.target_network(STATE2).max(1).values.unsqueeze(1)), 1 - DONE)\n",
    "        current = self.dqn(STATE).gather(1, ACTION.long())\n",
    "        loss = self.l1(current, target)\n",
    "        loss.backward() # Compute gradients\n",
    "        self.optimizer.step() # Backpropagate error\n",
    "        \n",
    "    def set_epsilon(self, value):\n",
    "        self.epsilon = value\n",
    "\n",
    "    @staticmethod\n",
    "    def load(path):\n",
    "        obj = pickle.load(open(path,'wb'))\n",
    "        return(obj)"
   ]
  },
  {
   "cell_type": "code",
   "execution_count": 126,
   "metadata": {},
   "outputs": [],
   "source": [
    "def pre_processed(obs):\n",
    "    obs = cv2.cvtColor(obs, cv2.COLOR_BGR2GRAY)\n",
    "    obs = cv2.resize(obs, ((64,18)))\n",
    "    return(obs)"
   ]
  },
  {
   "cell_type": "markdown",
   "metadata": {},
   "source": [
    "## Simulations deep q learning"
   ]
  },
  {
   "cell_type": "code",
   "execution_count": 129,
   "metadata": {},
   "outputs": [
    {
     "name": "stderr",
     "output_type": "stream",
     "text": [
      "  0%|          | 1/5000 [00:00<21:03,  3.96it/s]"
     ]
    },
    {
     "name": "stdout",
     "output_type": "stream",
     "text": [
      "101\n"
     ]
    },
    {
     "name": "stderr",
     "output_type": "stream",
     "text": [
      "  1%|▏         | 64/5000 [01:40<2:09:09,  1.57s/it]\n"
     ]
    },
    {
     "ename": "KeyboardInterrupt",
     "evalue": "",
     "output_type": "error",
     "traceback": [
      "\u001b[1;31m---------------------------------------------------------------------------\u001b[0m",
      "\u001b[1;31mKeyboardInterrupt\u001b[0m                         Traceback (most recent call last)",
      "\u001b[1;32mc:\\Users\\33631\\Documents\\Etudes\\centrale 3A\\RL\\flappy_bird_assignement\\flappy_bird.ipynb Cell 28'\u001b[0m in \u001b[0;36m<module>\u001b[1;34m\u001b[0m\n\u001b[0;32m     <a href='vscode-notebook-cell:/c%3A/Users/33631/Documents/Etudes/centrale%203A/RL/flappy_bird_assignement/flappy_bird.ipynb#ch0000013?line=41'>42</a>\u001b[0m agent\u001b[39m.\u001b[39mremember(state, action, reward, state_next, done)\n\u001b[0;32m     <a href='vscode-notebook-cell:/c%3A/Users/33631/Documents/Etudes/centrale%203A/RL/flappy_bird_assignement/flappy_bird.ipynb#ch0000013?line=42'>43</a>\u001b[0m \u001b[39mif\u001b[39;00m episode \u001b[39m>\u001b[39m\u001b[39m=\u001b[39m \u001b[39m20\u001b[39m:\n\u001b[1;32m---> <a href='vscode-notebook-cell:/c%3A/Users/33631/Documents/Etudes/centrale%203A/RL/flappy_bird_assignement/flappy_bird.ipynb#ch0000013?line=43'>44</a>\u001b[0m     agent\u001b[39m.\u001b[39;49mexperience_replay()\n\u001b[0;32m     <a href='vscode-notebook-cell:/c%3A/Users/33631/Documents/Etudes/centrale%203A/RL/flappy_bird_assignement/flappy_bird.ipynb#ch0000013?line=45'>46</a>\u001b[0m \u001b[39m# update next state\u001b[39;00m\n\u001b[0;32m     <a href='vscode-notebook-cell:/c%3A/Users/33631/Documents/Etudes/centrale%203A/RL/flappy_bird_assignement/flappy_bird.ipynb#ch0000013?line=46'>47</a>\u001b[0m state \u001b[39m=\u001b[39m state_next\n",
      "\u001b[1;32mc:\\Users\\33631\\Documents\\Etudes\\centrale 3A\\RL\\flappy_bird_assignement\\flappy_bird.ipynb Cell 25'\u001b[0m in \u001b[0;36mDQNAgent.experience_replay\u001b[1;34m(self)\u001b[0m\n\u001b[0;32m     <a href='vscode-notebook-cell:/c%3A/Users/33631/Documents/Etudes/centrale%203A/RL/flappy_bird_assignement/flappy_bird.ipynb#ch0000011?line=80'>81</a>\u001b[0m \u001b[39mwith\u001b[39;00m torch\u001b[39m.\u001b[39mno_grad():\n\u001b[0;32m     <a href='vscode-notebook-cell:/c%3A/Users/33631/Documents/Etudes/centrale%203A/RL/flappy_bird_assignement/flappy_bird.ipynb#ch0000011?line=81'>82</a>\u001b[0m     target \u001b[39m=\u001b[39m REWARD \u001b[39m+\u001b[39m torch\u001b[39m.\u001b[39mmul((\u001b[39mself\u001b[39m\u001b[39m.\u001b[39mdiscount \u001b[39m*\u001b[39m \u001b[39mself\u001b[39m\u001b[39m.\u001b[39mtarget_network(STATE2)\u001b[39m.\u001b[39mmax(\u001b[39m1\u001b[39m)\u001b[39m.\u001b[39mvalues\u001b[39m.\u001b[39munsqueeze(\u001b[39m1\u001b[39m)), \u001b[39m1\u001b[39m \u001b[39m-\u001b[39m DONE)\n\u001b[1;32m---> <a href='vscode-notebook-cell:/c%3A/Users/33631/Documents/Etudes/centrale%203A/RL/flappy_bird_assignement/flappy_bird.ipynb#ch0000011?line=82'>83</a>\u001b[0m current \u001b[39m=\u001b[39m \u001b[39mself\u001b[39;49m\u001b[39m.\u001b[39;49mdqn(STATE)\u001b[39m.\u001b[39mgather(\u001b[39m1\u001b[39m, ACTION\u001b[39m.\u001b[39mlong())\n\u001b[0;32m     <a href='vscode-notebook-cell:/c%3A/Users/33631/Documents/Etudes/centrale%203A/RL/flappy_bird_assignement/flappy_bird.ipynb#ch0000011?line=83'>84</a>\u001b[0m loss \u001b[39m=\u001b[39m \u001b[39mself\u001b[39m\u001b[39m.\u001b[39ml1(current, target)\n\u001b[0;32m     <a href='vscode-notebook-cell:/c%3A/Users/33631/Documents/Etudes/centrale%203A/RL/flappy_bird_assignement/flappy_bird.ipynb#ch0000011?line=84'>85</a>\u001b[0m loss\u001b[39m.\u001b[39mbackward() \u001b[39m# Compute gradients\u001b[39;00m\n",
      "File \u001b[1;32mc:\\Users\\33631\\Documents\\Etudes\\centrale 3A\\RL\\flappy_bird_assignement\\venv\\lib\\site-packages\\torch\\nn\\modules\\module.py:1102\u001b[0m, in \u001b[0;36mModule._call_impl\u001b[1;34m(self, *input, **kwargs)\u001b[0m\n\u001b[0;32m   <a href='file:///c%3A/Users/33631/Documents/Etudes/centrale%203A/RL/flappy_bird_assignement/venv/lib/site-packages/torch/nn/modules/module.py?line=1097'>1098</a>\u001b[0m \u001b[39m# If we don't have any hooks, we want to skip the rest of the logic in\u001b[39;00m\n\u001b[0;32m   <a href='file:///c%3A/Users/33631/Documents/Etudes/centrale%203A/RL/flappy_bird_assignement/venv/lib/site-packages/torch/nn/modules/module.py?line=1098'>1099</a>\u001b[0m \u001b[39m# this function, and just call forward.\u001b[39;00m\n\u001b[0;32m   <a href='file:///c%3A/Users/33631/Documents/Etudes/centrale%203A/RL/flappy_bird_assignement/venv/lib/site-packages/torch/nn/modules/module.py?line=1099'>1100</a>\u001b[0m \u001b[39mif\u001b[39;00m \u001b[39mnot\u001b[39;00m (\u001b[39mself\u001b[39m\u001b[39m.\u001b[39m_backward_hooks \u001b[39mor\u001b[39;00m \u001b[39mself\u001b[39m\u001b[39m.\u001b[39m_forward_hooks \u001b[39mor\u001b[39;00m \u001b[39mself\u001b[39m\u001b[39m.\u001b[39m_forward_pre_hooks \u001b[39mor\u001b[39;00m _global_backward_hooks\n\u001b[0;32m   <a href='file:///c%3A/Users/33631/Documents/Etudes/centrale%203A/RL/flappy_bird_assignement/venv/lib/site-packages/torch/nn/modules/module.py?line=1100'>1101</a>\u001b[0m         \u001b[39mor\u001b[39;00m _global_forward_hooks \u001b[39mor\u001b[39;00m _global_forward_pre_hooks):\n\u001b[1;32m-> <a href='file:///c%3A/Users/33631/Documents/Etudes/centrale%203A/RL/flappy_bird_assignement/venv/lib/site-packages/torch/nn/modules/module.py?line=1101'>1102</a>\u001b[0m     \u001b[39mreturn\u001b[39;00m forward_call(\u001b[39m*\u001b[39;49m\u001b[39minput\u001b[39;49m, \u001b[39m*\u001b[39;49m\u001b[39m*\u001b[39;49mkwargs)\n\u001b[0;32m   <a href='file:///c%3A/Users/33631/Documents/Etudes/centrale%203A/RL/flappy_bird_assignement/venv/lib/site-packages/torch/nn/modules/module.py?line=1102'>1103</a>\u001b[0m \u001b[39m# Do not call functions when jit is used\u001b[39;00m\n\u001b[0;32m   <a href='file:///c%3A/Users/33631/Documents/Etudes/centrale%203A/RL/flappy_bird_assignement/venv/lib/site-packages/torch/nn/modules/module.py?line=1103'>1104</a>\u001b[0m full_backward_hooks, non_full_backward_hooks \u001b[39m=\u001b[39m [], []\n",
      "\u001b[1;32mc:\\Users\\33631\\Documents\\Etudes\\centrale 3A\\RL\\flappy_bird_assignement\\flappy_bird.ipynb Cell 24'\u001b[0m in \u001b[0;36mNN.forward\u001b[1;34m(self, x)\u001b[0m\n\u001b[0;32m     <a href='vscode-notebook-cell:/c%3A/Users/33631/Documents/Etudes/centrale%203A/RL/flappy_bird_assignement/flappy_bird.ipynb#ch0000010?line=21'>22</a>\u001b[0m \u001b[39mdef\u001b[39;00m \u001b[39mforward\u001b[39m(\u001b[39mself\u001b[39m, x):\n\u001b[1;32m---> <a href='vscode-notebook-cell:/c%3A/Users/33631/Documents/Etudes/centrale%203A/RL/flappy_bird_assignement/flappy_bird.ipynb#ch0000010?line=22'>23</a>\u001b[0m     x \u001b[39m=\u001b[39m \u001b[39mself\u001b[39;49m\u001b[39m.\u001b[39;49mconv_net(x)\n\u001b[0;32m     <a href='vscode-notebook-cell:/c%3A/Users/33631/Documents/Etudes/centrale%203A/RL/flappy_bird_assignement/flappy_bird.ipynb#ch0000010?line=23'>24</a>\u001b[0m     o \u001b[39m=\u001b[39m \u001b[39mself\u001b[39m\u001b[39m.\u001b[39mdense(x)\n\u001b[0;32m     <a href='vscode-notebook-cell:/c%3A/Users/33631/Documents/Etudes/centrale%203A/RL/flappy_bird_assignement/flappy_bird.ipynb#ch0000010?line=24'>25</a>\u001b[0m     \u001b[39mreturn\u001b[39;00m o\n",
      "File \u001b[1;32mc:\\Users\\33631\\Documents\\Etudes\\centrale 3A\\RL\\flappy_bird_assignement\\venv\\lib\\site-packages\\torch\\nn\\modules\\module.py:1102\u001b[0m, in \u001b[0;36mModule._call_impl\u001b[1;34m(self, *input, **kwargs)\u001b[0m\n\u001b[0;32m   <a href='file:///c%3A/Users/33631/Documents/Etudes/centrale%203A/RL/flappy_bird_assignement/venv/lib/site-packages/torch/nn/modules/module.py?line=1097'>1098</a>\u001b[0m \u001b[39m# If we don't have any hooks, we want to skip the rest of the logic in\u001b[39;00m\n\u001b[0;32m   <a href='file:///c%3A/Users/33631/Documents/Etudes/centrale%203A/RL/flappy_bird_assignement/venv/lib/site-packages/torch/nn/modules/module.py?line=1098'>1099</a>\u001b[0m \u001b[39m# this function, and just call forward.\u001b[39;00m\n\u001b[0;32m   <a href='file:///c%3A/Users/33631/Documents/Etudes/centrale%203A/RL/flappy_bird_assignement/venv/lib/site-packages/torch/nn/modules/module.py?line=1099'>1100</a>\u001b[0m \u001b[39mif\u001b[39;00m \u001b[39mnot\u001b[39;00m (\u001b[39mself\u001b[39m\u001b[39m.\u001b[39m_backward_hooks \u001b[39mor\u001b[39;00m \u001b[39mself\u001b[39m\u001b[39m.\u001b[39m_forward_hooks \u001b[39mor\u001b[39;00m \u001b[39mself\u001b[39m\u001b[39m.\u001b[39m_forward_pre_hooks \u001b[39mor\u001b[39;00m _global_backward_hooks\n\u001b[0;32m   <a href='file:///c%3A/Users/33631/Documents/Etudes/centrale%203A/RL/flappy_bird_assignement/venv/lib/site-packages/torch/nn/modules/module.py?line=1100'>1101</a>\u001b[0m         \u001b[39mor\u001b[39;00m _global_forward_hooks \u001b[39mor\u001b[39;00m _global_forward_pre_hooks):\n\u001b[1;32m-> <a href='file:///c%3A/Users/33631/Documents/Etudes/centrale%203A/RL/flappy_bird_assignement/venv/lib/site-packages/torch/nn/modules/module.py?line=1101'>1102</a>\u001b[0m     \u001b[39mreturn\u001b[39;00m forward_call(\u001b[39m*\u001b[39;49m\u001b[39minput\u001b[39;49m, \u001b[39m*\u001b[39;49m\u001b[39m*\u001b[39;49mkwargs)\n\u001b[0;32m   <a href='file:///c%3A/Users/33631/Documents/Etudes/centrale%203A/RL/flappy_bird_assignement/venv/lib/site-packages/torch/nn/modules/module.py?line=1102'>1103</a>\u001b[0m \u001b[39m# Do not call functions when jit is used\u001b[39;00m\n\u001b[0;32m   <a href='file:///c%3A/Users/33631/Documents/Etudes/centrale%203A/RL/flappy_bird_assignement/venv/lib/site-packages/torch/nn/modules/module.py?line=1103'>1104</a>\u001b[0m full_backward_hooks, non_full_backward_hooks \u001b[39m=\u001b[39m [], []\n",
      "File \u001b[1;32mc:\\Users\\33631\\Documents\\Etudes\\centrale 3A\\RL\\flappy_bird_assignement\\venv\\lib\\site-packages\\torch\\nn\\modules\\container.py:141\u001b[0m, in \u001b[0;36mSequential.forward\u001b[1;34m(self, input)\u001b[0m\n\u001b[0;32m    <a href='file:///c%3A/Users/33631/Documents/Etudes/centrale%203A/RL/flappy_bird_assignement/venv/lib/site-packages/torch/nn/modules/container.py?line=138'>139</a>\u001b[0m \u001b[39mdef\u001b[39;00m \u001b[39mforward\u001b[39m(\u001b[39mself\u001b[39m, \u001b[39minput\u001b[39m):\n\u001b[0;32m    <a href='file:///c%3A/Users/33631/Documents/Etudes/centrale%203A/RL/flappy_bird_assignement/venv/lib/site-packages/torch/nn/modules/container.py?line=139'>140</a>\u001b[0m     \u001b[39mfor\u001b[39;00m module \u001b[39min\u001b[39;00m \u001b[39mself\u001b[39m:\n\u001b[1;32m--> <a href='file:///c%3A/Users/33631/Documents/Etudes/centrale%203A/RL/flappy_bird_assignement/venv/lib/site-packages/torch/nn/modules/container.py?line=140'>141</a>\u001b[0m         \u001b[39minput\u001b[39m \u001b[39m=\u001b[39m module(\u001b[39minput\u001b[39;49m)\n\u001b[0;32m    <a href='file:///c%3A/Users/33631/Documents/Etudes/centrale%203A/RL/flappy_bird_assignement/venv/lib/site-packages/torch/nn/modules/container.py?line=141'>142</a>\u001b[0m     \u001b[39mreturn\u001b[39;00m \u001b[39minput\u001b[39m\n",
      "File \u001b[1;32mc:\\Users\\33631\\Documents\\Etudes\\centrale 3A\\RL\\flappy_bird_assignement\\venv\\lib\\site-packages\\torch\\nn\\modules\\module.py:1102\u001b[0m, in \u001b[0;36mModule._call_impl\u001b[1;34m(self, *input, **kwargs)\u001b[0m\n\u001b[0;32m   <a href='file:///c%3A/Users/33631/Documents/Etudes/centrale%203A/RL/flappy_bird_assignement/venv/lib/site-packages/torch/nn/modules/module.py?line=1097'>1098</a>\u001b[0m \u001b[39m# If we don't have any hooks, we want to skip the rest of the logic in\u001b[39;00m\n\u001b[0;32m   <a href='file:///c%3A/Users/33631/Documents/Etudes/centrale%203A/RL/flappy_bird_assignement/venv/lib/site-packages/torch/nn/modules/module.py?line=1098'>1099</a>\u001b[0m \u001b[39m# this function, and just call forward.\u001b[39;00m\n\u001b[0;32m   <a href='file:///c%3A/Users/33631/Documents/Etudes/centrale%203A/RL/flappy_bird_assignement/venv/lib/site-packages/torch/nn/modules/module.py?line=1099'>1100</a>\u001b[0m \u001b[39mif\u001b[39;00m \u001b[39mnot\u001b[39;00m (\u001b[39mself\u001b[39m\u001b[39m.\u001b[39m_backward_hooks \u001b[39mor\u001b[39;00m \u001b[39mself\u001b[39m\u001b[39m.\u001b[39m_forward_hooks \u001b[39mor\u001b[39;00m \u001b[39mself\u001b[39m\u001b[39m.\u001b[39m_forward_pre_hooks \u001b[39mor\u001b[39;00m _global_backward_hooks\n\u001b[0;32m   <a href='file:///c%3A/Users/33631/Documents/Etudes/centrale%203A/RL/flappy_bird_assignement/venv/lib/site-packages/torch/nn/modules/module.py?line=1100'>1101</a>\u001b[0m         \u001b[39mor\u001b[39;00m _global_forward_hooks \u001b[39mor\u001b[39;00m _global_forward_pre_hooks):\n\u001b[1;32m-> <a href='file:///c%3A/Users/33631/Documents/Etudes/centrale%203A/RL/flappy_bird_assignement/venv/lib/site-packages/torch/nn/modules/module.py?line=1101'>1102</a>\u001b[0m     \u001b[39mreturn\u001b[39;00m forward_call(\u001b[39m*\u001b[39;49m\u001b[39minput\u001b[39;49m, \u001b[39m*\u001b[39;49m\u001b[39m*\u001b[39;49mkwargs)\n\u001b[0;32m   <a href='file:///c%3A/Users/33631/Documents/Etudes/centrale%203A/RL/flappy_bird_assignement/venv/lib/site-packages/torch/nn/modules/module.py?line=1102'>1103</a>\u001b[0m \u001b[39m# Do not call functions when jit is used\u001b[39;00m\n\u001b[0;32m   <a href='file:///c%3A/Users/33631/Documents/Etudes/centrale%203A/RL/flappy_bird_assignement/venv/lib/site-packages/torch/nn/modules/module.py?line=1103'>1104</a>\u001b[0m full_backward_hooks, non_full_backward_hooks \u001b[39m=\u001b[39m [], []\n",
      "File \u001b[1;32mc:\\Users\\33631\\Documents\\Etudes\\centrale 3A\\RL\\flappy_bird_assignement\\venv\\lib\\site-packages\\torch\\nn\\modules\\conv.py:446\u001b[0m, in \u001b[0;36mConv2d.forward\u001b[1;34m(self, input)\u001b[0m\n\u001b[0;32m    <a href='file:///c%3A/Users/33631/Documents/Etudes/centrale%203A/RL/flappy_bird_assignement/venv/lib/site-packages/torch/nn/modules/conv.py?line=444'>445</a>\u001b[0m \u001b[39mdef\u001b[39;00m \u001b[39mforward\u001b[39m(\u001b[39mself\u001b[39m, \u001b[39minput\u001b[39m: Tensor) \u001b[39m-\u001b[39m\u001b[39m>\u001b[39m Tensor:\n\u001b[1;32m--> <a href='file:///c%3A/Users/33631/Documents/Etudes/centrale%203A/RL/flappy_bird_assignement/venv/lib/site-packages/torch/nn/modules/conv.py?line=445'>446</a>\u001b[0m     \u001b[39mreturn\u001b[39;00m \u001b[39mself\u001b[39;49m\u001b[39m.\u001b[39;49m_conv_forward(\u001b[39minput\u001b[39;49m, \u001b[39mself\u001b[39;49m\u001b[39m.\u001b[39;49mweight, \u001b[39mself\u001b[39;49m\u001b[39m.\u001b[39;49mbias)\n",
      "File \u001b[1;32mc:\\Users\\33631\\Documents\\Etudes\\centrale 3A\\RL\\flappy_bird_assignement\\venv\\lib\\site-packages\\torch\\nn\\modules\\conv.py:442\u001b[0m, in \u001b[0;36mConv2d._conv_forward\u001b[1;34m(self, input, weight, bias)\u001b[0m\n\u001b[0;32m    <a href='file:///c%3A/Users/33631/Documents/Etudes/centrale%203A/RL/flappy_bird_assignement/venv/lib/site-packages/torch/nn/modules/conv.py?line=437'>438</a>\u001b[0m \u001b[39mif\u001b[39;00m \u001b[39mself\u001b[39m\u001b[39m.\u001b[39mpadding_mode \u001b[39m!=\u001b[39m \u001b[39m'\u001b[39m\u001b[39mzeros\u001b[39m\u001b[39m'\u001b[39m:\n\u001b[0;32m    <a href='file:///c%3A/Users/33631/Documents/Etudes/centrale%203A/RL/flappy_bird_assignement/venv/lib/site-packages/torch/nn/modules/conv.py?line=438'>439</a>\u001b[0m     \u001b[39mreturn\u001b[39;00m F\u001b[39m.\u001b[39mconv2d(F\u001b[39m.\u001b[39mpad(\u001b[39minput\u001b[39m, \u001b[39mself\u001b[39m\u001b[39m.\u001b[39m_reversed_padding_repeated_twice, mode\u001b[39m=\u001b[39m\u001b[39mself\u001b[39m\u001b[39m.\u001b[39mpadding_mode),\n\u001b[0;32m    <a href='file:///c%3A/Users/33631/Documents/Etudes/centrale%203A/RL/flappy_bird_assignement/venv/lib/site-packages/torch/nn/modules/conv.py?line=439'>440</a>\u001b[0m                     weight, bias, \u001b[39mself\u001b[39m\u001b[39m.\u001b[39mstride,\n\u001b[0;32m    <a href='file:///c%3A/Users/33631/Documents/Etudes/centrale%203A/RL/flappy_bird_assignement/venv/lib/site-packages/torch/nn/modules/conv.py?line=440'>441</a>\u001b[0m                     _pair(\u001b[39m0\u001b[39m), \u001b[39mself\u001b[39m\u001b[39m.\u001b[39mdilation, \u001b[39mself\u001b[39m\u001b[39m.\u001b[39mgroups)\n\u001b[1;32m--> <a href='file:///c%3A/Users/33631/Documents/Etudes/centrale%203A/RL/flappy_bird_assignement/venv/lib/site-packages/torch/nn/modules/conv.py?line=441'>442</a>\u001b[0m \u001b[39mreturn\u001b[39;00m F\u001b[39m.\u001b[39;49mconv2d(\u001b[39minput\u001b[39;49m, weight, bias, \u001b[39mself\u001b[39;49m\u001b[39m.\u001b[39;49mstride,\n\u001b[0;32m    <a href='file:///c%3A/Users/33631/Documents/Etudes/centrale%203A/RL/flappy_bird_assignement/venv/lib/site-packages/torch/nn/modules/conv.py?line=442'>443</a>\u001b[0m                 \u001b[39mself\u001b[39;49m\u001b[39m.\u001b[39;49mpadding, \u001b[39mself\u001b[39;49m\u001b[39m.\u001b[39;49mdilation, \u001b[39mself\u001b[39;49m\u001b[39m.\u001b[39;49mgroups)\n",
      "\u001b[1;31mKeyboardInterrupt\u001b[0m: "
     ]
    }
   ],
   "source": [
    "import flappy_bird_gym\n",
    "number_of_episodes = 5000\n",
    "rewards_dict = {}\n",
    "# initiate environment\n",
    "env = flappy_bird_gym.make(\"FlappyBird-rgb-v0\")\n",
    "# initialise agent\n",
    "epsilon_value = 1\n",
    "agent_info = {\"states_shape\":[1, 18, 64],\"num_actions\": 2 , \"epsilon\": epsilon_value, \"step_size\": 0.1, \"discount\": 1.0, \"seed\": 0}\n",
    "\n",
    "agent = DQNAgent()\n",
    "agent.agent_init(agent_info)\n",
    "   \n",
    "for episode in tqdm(range(number_of_episodes), position = 0):\n",
    "    if episode == 20:\n",
    "        epsilon_value  = 0.2\n",
    "        agent.set_epsilon(epsilon_value)\n",
    "        \n",
    "    if episode > 20 and episode%500:\n",
    "        epsilon_value  = epsilon_value*0.9\n",
    "        agent.set_epsilon(epsilon_value)\n",
    "\n",
    "    if episode % 10 == 0 and episode>=20:\n",
    "        agent.update_target_network()\n",
    "\n",
    "    current_reward = 0\n",
    "    state = env.reset()\n",
    "    state = pre_processed(state)\n",
    "    state = torch.Tensor([state])\n",
    "    while True:\n",
    "        action = agent.step(state)\n",
    "        # action\n",
    "        state_next, reward, done, info = env.step(int(action[0][0]))\n",
    "        state_next = pre_processed(state_next)\n",
    "        current_reward += reward\n",
    "\n",
    "        # process output\n",
    "        state_next = torch.Tensor([state_next])\n",
    "        reward = torch.tensor([reward]).unsqueeze(0)\n",
    "        done = torch.tensor([int(done)]).unsqueeze(0)\n",
    "\n",
    "        # remember and train\n",
    "        agent.remember(state, action, reward, state_next, done)\n",
    "        if episode >= 20:\n",
    "            agent.experience_replay()\n",
    "\n",
    "        # update next state\n",
    "        state = state_next\n",
    "        if bool(done[0][0]):\n",
    "            rewards_dict[episode] = current_reward\n",
    "            if episode % 500 == 0:\n",
    "                print(current_reward)\n",
    "            break"
   ]
  },
  {
   "cell_type": "code",
   "execution_count": 143,
   "metadata": {},
   "outputs": [
    {
     "data": {
      "text/plain": [
       "<matplotlib.image.AxesImage at 0x2301b057910>"
      ]
     },
     "execution_count": 143,
     "metadata": {},
     "output_type": "execute_result"
    },
    {
     "data": {
      "image/png": "[encoded data removed]",
      "text/plain": [
       "<Figure size 432x288 with 1 Axes>"
      ]
     },
     "metadata": {
      "needs_background": "light"
     },
     "output_type": "display_data"
    }
   ],
   "source": [
    "obs = env.reset()\n",
    "obs = cv2.resize(obs,(64,18))\n",
    "obs = pre_processed(obs)\n",
    "plt.imshow(obs,cmap = \"gray\")"
   ]
  },
  {
   "cell_type": "code",
   "execution_count": 17,
   "metadata": {},
   "outputs": [
    {
     "name": "stdout",
     "output_type": "stream",
     "text": [
      "(288, 512, 3)\n",
      "None\n"
     ]
    },
    {
     "ename": "KeyboardInterrupt",
     "evalue": "",
     "output_type": "error",
     "traceback": [
      "\u001b[1;31m---------------------------------------------------------------------------\u001b[0m",
      "\u001b[1;31mKeyboardInterrupt\u001b[0m                         Traceback (most recent call last)",
      "\u001b[1;32mc:\\Users\\33631\\Documents\\Etudes\\centrale 3A\\RL\\flappy_bird_assignement\\flappy_bird.ipynb Cell 18'\u001b[0m in \u001b[0;36m<module>\u001b[1;34m\u001b[0m\n\u001b[0;32m     <a href='vscode-notebook-cell:/c%3A/Users/33631/Documents/Etudes/centrale%203A/RL/flappy_bird_assignement/flappy_bird.ipynb#ch0000009?line=14'>15</a>\u001b[0m \u001b[39m# Rendering the game:\u001b[39;00m\n\u001b[0;32m     <a href='vscode-notebook-cell:/c%3A/Users/33631/Documents/Etudes/centrale%203A/RL/flappy_bird_assignement/flappy_bird.ipynb#ch0000009?line=15'>16</a>\u001b[0m \u001b[39m# (remove this two lines during training)\u001b[39;00m\n\u001b[0;32m     <a href='vscode-notebook-cell:/c%3A/Users/33631/Documents/Etudes/centrale%203A/RL/flappy_bird_assignement/flappy_bird.ipynb#ch0000009?line=16'>17</a>\u001b[0m env\u001b[39m.\u001b[39mrender()\n\u001b[1;32m---> <a href='vscode-notebook-cell:/c%3A/Users/33631/Documents/Etudes/centrale%203A/RL/flappy_bird_assignement/flappy_bird.ipynb#ch0000009?line=17'>18</a>\u001b[0m time\u001b[39m.\u001b[39;49msleep(\u001b[39m2\u001b[39;49m)  \u001b[39m# FPS\u001b[39;00m\n\u001b[0;32m     <a href='vscode-notebook-cell:/c%3A/Users/33631/Documents/Etudes/centrale%203A/RL/flappy_bird_assignement/flappy_bird.ipynb#ch0000009?line=19'>20</a>\u001b[0m \u001b[39m# Checking if the player is still alive\u001b[39;00m\n\u001b[0;32m     <a href='vscode-notebook-cell:/c%3A/Users/33631/Documents/Etudes/centrale%203A/RL/flappy_bird_assignement/flappy_bird.ipynb#ch0000009?line=20'>21</a>\u001b[0m \u001b[39mif\u001b[39;00m done:\n",
      "\u001b[1;31mKeyboardInterrupt\u001b[0m: "
     ]
    }
   ],
   "source": [
    "import time\n",
    "import flappy_bird_gym\n",
    "env = flappy_bird_gym.make(\"FlappyBird-rgb-v0\")\n",
    "\n",
    "obs = env.reset()\n",
    "while True:\n",
    "    # Next action:\n",
    "    # (feed the observation to your agent here)\n",
    "    action = ...  # env.action_space.sample() for a random action\n",
    "\n",
    "    # Processing:\n",
    "    obs, reward, done, info = env.step(action)\n",
    "    print(obs.shape)\n",
    "    print(env.render())\n",
    "    # Rendering the game:\n",
    "    # (remove this two lines during training)\n",
    "    env.render()\n",
    "    time.sleep(2)  # FPS\n",
    "    \n",
    "    # Checking if the player is still alive\n",
    "    if done:\n",
    "        break\n",
    "\n",
    "env.close()"
   ]
  }
 ],
 "metadata": {
  "interpreter": {
   "hash": "fd5b4da9056fc0434f9d342faf0297f3f60f3917282b4ca608884c737a7a131d"
  },
  "kernelspec": {
   "display_name": "Python 3.8.10 ('venv': venv)",
   "language": "python",
   "name": "python3"
  },
  "language_info": {
   "codemirror_mode": {
    "name": "ipython",
    "version": 3
   },
   "file_extension": ".py",
   "mimetype": "text/x-python",
   "name": "python",
   "nbconvert_exporter": "python",
   "pygments_lexer": "ipython3",
   "version": "3.8.10"
  },
  "orig_nbformat": 4
 },
 "nbformat": 4,
 "nbformat_minor": 2
}
